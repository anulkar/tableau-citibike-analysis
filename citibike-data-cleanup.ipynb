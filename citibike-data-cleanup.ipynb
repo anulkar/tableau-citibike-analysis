{
 "cells": [
  {
   "cell_type": "code",
   "execution_count": 3,
   "metadata": {},
   "outputs": [],
   "source": [
    "# Dependencies and Setup\n",
    "import pandas as pd\n",
    "import glob"
   ]
  },
  {
   "cell_type": "code",
   "execution_count": 4,
   "metadata": {},
   "outputs": [
    {
     "output_type": "execute_result",
     "data": {
      "text/plain": "['Resources/JC-202002-citibike-tripdata.csv',\n 'Resources/JC-201910-citibike-tripdata.csv',\n 'Resources/JC-201912-citibike-tripdata.csv',\n 'Resources/JC-202003-citibike-tripdata.csv',\n 'Resources/JC-201911-citibike-tripdata.csv',\n 'Resources/JC-202001-citibike-tripdata.csv']"
     },
     "metadata": {},
     "execution_count": 4
    }
   ],
   "source": [
    "# List all Citi Bike CSV files in the working directory\n",
    "citi_bike_csv_files = [file for file in glob.glob('Resources/*tripdata.csv')]\n",
    "citi_bike_csv_files"
   ]
  },
  {
   "cell_type": "code",
   "execution_count": 5,
   "metadata": {},
   "outputs": [
    {
     "output_type": "execute_result",
     "data": {
      "text/plain": "       tripduration                 starttime                  stoptime  \\\n0               841  2020-02-01 00:02:13.7650  2020-02-01 00:16:15.4720   \n1               206  2020-02-01 00:16:11.3850  2020-02-01 00:19:37.4460   \n2               859  2020-02-01 00:23:22.1090  2020-02-01 00:37:41.5060   \n3               693  2020-02-01 00:25:14.5170  2020-02-01 00:36:48.0280   \n4              1473  2020-02-01 00:32:30.5050  2020-02-01 00:57:04.3740   \n...             ...                       ...                       ...   \n26015           544  2020-01-31 23:29:29.3910  2020-01-31 23:38:33.6910   \n26016           122  2020-01-31 23:30:59.3670  2020-01-31 23:33:01.6870   \n26017           201  2020-01-31 23:42:34.8460  2020-01-31 23:45:55.8780   \n26018           300  2020-01-31 23:45:00.6800  2020-01-31 23:50:00.8740   \n26019           721  2020-01-31 23:48:35.1700  2020-02-01 00:00:36.4060   \n\n       start station id          start station name  start station latitude  \\\n0                  3199                Newport Pkwy               40.728745   \n1                  3273                Manila & 1st               40.721651   \n2                  3185                   City Hall               40.717733   \n3                  3185                   City Hall               40.717733   \n4                  3192          Liberty Light Rail               40.711242   \n...                 ...                         ...                     ...   \n26015              3213              Van Vorst Park               40.718489   \n26016              3792  Columbus Dr at Exchange Pl               40.716870   \n26017              3273                Manila & 1st               40.721651   \n26018              3185                   City Hall               40.717733   \n26019              3206                     Hilltop               40.731169   \n\n       start station longitude  end station id         end station name  \\\n0                   -74.032108            3213           Van Vorst Park   \n1                   -74.042884            3639               Harborside   \n2                   -74.043845            3268           Lafayette Park   \n3                   -74.043845            3277  Communipaw & Berry Lane   \n4                   -74.055701            3639               Harborside   \n...                        ...             ...                      ...   \n26015               -74.047727            3194          McGinley Square   \n26016               -74.032810            3639               Harborside   \n26017               -74.042884            3209             Brunswick St   \n26018               -74.043845            3267             Morris Canal   \n26019               -74.057574            3202             Newport PATH   \n\n       end station latitude  end station longitude  bikeid    usertype  \\\n0                 40.718489             -74.047727   42217  Subscriber   \n1                 40.719252             -74.034234   42160  Subscriber   \n2                 40.713464             -74.062859   42204    Customer   \n3                 40.714358             -74.066611   42165  Subscriber   \n4                 40.719252             -74.034234   26156    Customer   \n...                     ...                    ...     ...         ...   \n26015             40.725340             -74.067622   29659  Subscriber   \n26016             40.719252             -74.034234   42361  Subscriber   \n26017             40.724176             -74.050656   42368  Subscriber   \n26018             40.712419             -74.038526   42257  Subscriber   \n26019             40.727224             -74.033759   29302    Customer   \n\n       birth year  gender  \n0            1980       1  \n1            1990       1  \n2            1991       1  \n3            1987       1  \n4            1969       0  \n...           ...     ...  \n26015        1989       1  \n26016        1991       1  \n26017        1988       1  \n26018        1981       2  \n26019        1998       1  \n\n[159479 rows x 15 columns]",
      "text/html": "<div>\n<style scoped>\n    .dataframe tbody tr th:only-of-type {\n        vertical-align: middle;\n    }\n\n    .dataframe tbody tr th {\n        vertical-align: top;\n    }\n\n    .dataframe thead th {\n        text-align: right;\n    }\n</style>\n<table border=\"1\" class=\"dataframe\">\n  <thead>\n    <tr style=\"text-align: right;\">\n      <th></th>\n      <th>tripduration</th>\n      <th>starttime</th>\n      <th>stoptime</th>\n      <th>start station id</th>\n      <th>start station name</th>\n      <th>start station latitude</th>\n      <th>start station longitude</th>\n      <th>end station id</th>\n      <th>end station name</th>\n      <th>end station latitude</th>\n      <th>end station longitude</th>\n      <th>bikeid</th>\n      <th>usertype</th>\n      <th>birth year</th>\n      <th>gender</th>\n    </tr>\n  </thead>\n  <tbody>\n    <tr>\n      <th>0</th>\n      <td>841</td>\n      <td>2020-02-01 00:02:13.7650</td>\n      <td>2020-02-01 00:16:15.4720</td>\n      <td>3199</td>\n      <td>Newport Pkwy</td>\n      <td>40.728745</td>\n      <td>-74.032108</td>\n      <td>3213</td>\n      <td>Van Vorst Park</td>\n      <td>40.718489</td>\n      <td>-74.047727</td>\n      <td>42217</td>\n      <td>Subscriber</td>\n      <td>1980</td>\n      <td>1</td>\n    </tr>\n    <tr>\n      <th>1</th>\n      <td>206</td>\n      <td>2020-02-01 00:16:11.3850</td>\n      <td>2020-02-01 00:19:37.4460</td>\n      <td>3273</td>\n      <td>Manila &amp; 1st</td>\n      <td>40.721651</td>\n      <td>-74.042884</td>\n      <td>3639</td>\n      <td>Harborside</td>\n      <td>40.719252</td>\n      <td>-74.034234</td>\n      <td>42160</td>\n      <td>Subscriber</td>\n      <td>1990</td>\n      <td>1</td>\n    </tr>\n    <tr>\n      <th>2</th>\n      <td>859</td>\n      <td>2020-02-01 00:23:22.1090</td>\n      <td>2020-02-01 00:37:41.5060</td>\n      <td>3185</td>\n      <td>City Hall</td>\n      <td>40.717733</td>\n      <td>-74.043845</td>\n      <td>3268</td>\n      <td>Lafayette Park</td>\n      <td>40.713464</td>\n      <td>-74.062859</td>\n      <td>42204</td>\n      <td>Customer</td>\n      <td>1991</td>\n      <td>1</td>\n    </tr>\n    <tr>\n      <th>3</th>\n      <td>693</td>\n      <td>2020-02-01 00:25:14.5170</td>\n      <td>2020-02-01 00:36:48.0280</td>\n      <td>3185</td>\n      <td>City Hall</td>\n      <td>40.717733</td>\n      <td>-74.043845</td>\n      <td>3277</td>\n      <td>Communipaw &amp; Berry Lane</td>\n      <td>40.714358</td>\n      <td>-74.066611</td>\n      <td>42165</td>\n      <td>Subscriber</td>\n      <td>1987</td>\n      <td>1</td>\n    </tr>\n    <tr>\n      <th>4</th>\n      <td>1473</td>\n      <td>2020-02-01 00:32:30.5050</td>\n      <td>2020-02-01 00:57:04.3740</td>\n      <td>3192</td>\n      <td>Liberty Light Rail</td>\n      <td>40.711242</td>\n      <td>-74.055701</td>\n      <td>3639</td>\n      <td>Harborside</td>\n      <td>40.719252</td>\n      <td>-74.034234</td>\n      <td>26156</td>\n      <td>Customer</td>\n      <td>1969</td>\n      <td>0</td>\n    </tr>\n    <tr>\n      <th>...</th>\n      <td>...</td>\n      <td>...</td>\n      <td>...</td>\n      <td>...</td>\n      <td>...</td>\n      <td>...</td>\n      <td>...</td>\n      <td>...</td>\n      <td>...</td>\n      <td>...</td>\n      <td>...</td>\n      <td>...</td>\n      <td>...</td>\n      <td>...</td>\n      <td>...</td>\n    </tr>\n    <tr>\n      <th>26015</th>\n      <td>544</td>\n      <td>2020-01-31 23:29:29.3910</td>\n      <td>2020-01-31 23:38:33.6910</td>\n      <td>3213</td>\n      <td>Van Vorst Park</td>\n      <td>40.718489</td>\n      <td>-74.047727</td>\n      <td>3194</td>\n      <td>McGinley Square</td>\n      <td>40.725340</td>\n      <td>-74.067622</td>\n      <td>29659</td>\n      <td>Subscriber</td>\n      <td>1989</td>\n      <td>1</td>\n    </tr>\n    <tr>\n      <th>26016</th>\n      <td>122</td>\n      <td>2020-01-31 23:30:59.3670</td>\n      <td>2020-01-31 23:33:01.6870</td>\n      <td>3792</td>\n      <td>Columbus Dr at Exchange Pl</td>\n      <td>40.716870</td>\n      <td>-74.032810</td>\n      <td>3639</td>\n      <td>Harborside</td>\n      <td>40.719252</td>\n      <td>-74.034234</td>\n      <td>42361</td>\n      <td>Subscriber</td>\n      <td>1991</td>\n      <td>1</td>\n    </tr>\n    <tr>\n      <th>26017</th>\n      <td>201</td>\n      <td>2020-01-31 23:42:34.8460</td>\n      <td>2020-01-31 23:45:55.8780</td>\n      <td>3273</td>\n      <td>Manila &amp; 1st</td>\n      <td>40.721651</td>\n      <td>-74.042884</td>\n      <td>3209</td>\n      <td>Brunswick St</td>\n      <td>40.724176</td>\n      <td>-74.050656</td>\n      <td>42368</td>\n      <td>Subscriber</td>\n      <td>1988</td>\n      <td>1</td>\n    </tr>\n    <tr>\n      <th>26018</th>\n      <td>300</td>\n      <td>2020-01-31 23:45:00.6800</td>\n      <td>2020-01-31 23:50:00.8740</td>\n      <td>3185</td>\n      <td>City Hall</td>\n      <td>40.717733</td>\n      <td>-74.043845</td>\n      <td>3267</td>\n      <td>Morris Canal</td>\n      <td>40.712419</td>\n      <td>-74.038526</td>\n      <td>42257</td>\n      <td>Subscriber</td>\n      <td>1981</td>\n      <td>2</td>\n    </tr>\n    <tr>\n      <th>26019</th>\n      <td>721</td>\n      <td>2020-01-31 23:48:35.1700</td>\n      <td>2020-02-01 00:00:36.4060</td>\n      <td>3206</td>\n      <td>Hilltop</td>\n      <td>40.731169</td>\n      <td>-74.057574</td>\n      <td>3202</td>\n      <td>Newport PATH</td>\n      <td>40.727224</td>\n      <td>-74.033759</td>\n      <td>29302</td>\n      <td>Customer</td>\n      <td>1998</td>\n      <td>1</td>\n    </tr>\n  </tbody>\n</table>\n<p>159479 rows × 15 columns</p>\n</div>"
     },
     "metadata": {},
     "execution_count": 5
    }
   ],
   "source": [
    "# Read and consolidate all CSV files into one Data Frame\n",
    "all_citi_bike_data = pd.concat([pd.read_csv(file) for file in citi_bike_csv_files])\n",
    "all_citi_bike_data"
   ]
  },
  {
   "cell_type": "code",
   "execution_count": 6,
   "metadata": {},
   "outputs": [
    {
     "output_type": "stream",
     "name": "stdout",
     "text": "Old data frame length: 159479\nNew data frame length: 159479\nNumber of rows with at least 1 NA value:  0\n"
    }
   ],
   "source": [
    "# Drop any rows with at least one null value\n",
    "all_citi_bike_data_clean = all_citi_bike_data.dropna()\n",
    "all_citi_bike_data_clean\n",
    "\n",
    "print(\"Old data frame length:\", len(all_citi_bike_data)) \n",
    "print(\"New data frame length:\", len(all_citi_bike_data_clean)) \n",
    "print(\"Number of rows with at least 1 NA value: \", (len(all_citi_bike_data)-len(all_citi_bike_data_clean))) "
   ]
  },
  {
   "cell_type": "code",
   "execution_count": 7,
   "metadata": {},
   "outputs": [
    {
     "output_type": "execute_result",
     "data": {
      "text/plain": "tripduration                 int64\nstarttime                   object\nstoptime                    object\nstart station id             int64\nstart station name          object\nstart station latitude     float64\nstart station longitude    float64\nend station id               int64\nend station name            object\nend station latitude       float64\nend station longitude      float64\nbikeid                       int64\nusertype                    object\nbirth year                   int64\ngender                       int64\ndtype: object"
     },
     "metadata": {},
     "execution_count": 7
    }
   ],
   "source": [
    "# Verify data types\n",
    "all_citi_bike_data_clean.dtypes"
   ]
  },
  {
   "cell_type": "code",
   "execution_count": 8,
   "metadata": {},
   "outputs": [
    {
     "output_type": "execute_result",
     "data": {
      "text/plain": "1    112434\n2     38634\n0      8411\nName: gender, dtype: int64"
     },
     "metadata": {},
     "execution_count": 8
    }
   ],
   "source": [
    "# Verify gender data (0=unknown; 1=male; 2=female)\n",
    "all_citi_bike_data_clean.gender.value_counts()"
   ]
  },
  {
   "cell_type": "code",
   "execution_count": 9,
   "metadata": {},
   "outputs": [
    {
     "output_type": "execute_result",
     "data": {
      "text/plain": "Male       112434\nFemale      38634\nUnknown      8411\nName: gender, dtype: int64"
     },
     "metadata": {},
     "execution_count": 9
    }
   ],
   "source": [
    "# Change data type of gender column to String\n",
    "all_citi_bike_data_clean['gender'] = all_citi_bike_data_clean['gender'].astype(str)\n",
    "\n",
    "# Replace gender values (0=>unknown; 1=>male; 2=>female)\n",
    "all_citi_bike_data_clean['gender'].replace({'0':'Unknown', '1': 'Male', '2': 'Female'}, inplace=True)\n",
    "\n",
    "# Verify gender data after replacement\n",
    "all_citi_bike_data_clean.gender.value_counts()"
   ]
  },
  {
   "cell_type": "code",
   "execution_count": 10,
   "metadata": {},
   "outputs": [
    {
     "output_type": "execute_result",
     "data": {
      "text/plain": "Subscriber    146173\nCustomer       13306\nName: usertype, dtype: int64"
     },
     "metadata": {},
     "execution_count": 10
    }
   ],
   "source": [
    "# Verify user type data\n",
    "all_citi_bike_data_clean.usertype.value_counts()"
   ]
  },
  {
   "cell_type": "code",
   "execution_count": 11,
   "metadata": {},
   "outputs": [
    {
     "output_type": "stream",
     "name": "stdout",
     "text": "Duplicate Rows except first occurrence based on all columns are: 0\n\n"
    }
   ],
   "source": [
    "# Check for any duplicate rows in the DataFra,e except first occurrence based on all columns\n",
    "duplicate_rows_df = all_citi_bike_data_clean[all_citi_bike_data_clean.duplicated()]\n",
    " \n",
    "print(f\"Duplicate Rows except first occurrence based on all columns are: {len(duplicate_rows_df)}\")\n",
    "print()"
   ]
  },
  {
   "cell_type": "code",
   "execution_count": 12,
   "metadata": {},
   "outputs": [
    {
     "output_type": "execute_result",
     "data": {
      "text/plain": "Grove St PATH                 17283\nHamilton Park                  9240\nSip Ave                        8645\nHarborside                     7242\nNewport PATH                   6527\nColumbus Dr at Exchange Pl     6262\nMarin Light Rail               5891\nBrunswick & 6th                4419\nNewport Pkwy                   4256\nCity Hall                      4086\nWarren St                      4066\nNewark Ave                     3982\nJersey & 3rd                   3731\nMorris Canal                   3650\nMcGinley Square                3552\nMonmouth and 6th               3552\nWashington St                  3536\nJersey & 6th St                3488\nColumbus Drive                 3441\nBrunswick St                   3272\nLiberty Light Rail             3189\nManila & 1st                   3175\nVan Vorst Park                 3171\nPaulus Hook                    3006\nDixon Mills                    2916\nJournal Square                 2716\nJC Medical Center              2524\nGrand St                       2288\nEssex Light Rail               2229\nMontgomery St                  1721\nAstor Place                    1690\nPershing Field                 1653\nOakland Ave                    1650\nBergen Ave                     1615\nBaldwin at Montgomery          1583\nFairmount Ave                  1571\nYork St                        1363\nLafayette Park                 1294\nLincoln Park                   1029\nHoboken Ave at Monmouth St     1022\nChrist Hospital                 956\nHilltop                         952\nGlenwood Ave                    895\nHeights Elevator                860\n5 Corners Library               828\nRiverview Park                  802\nLeonard Gordon Park             634\nCommunipaw & Berry Lane         579\nDey St                          521\nJackson Square                  498\nUnion St                        428\nName: start station name, dtype: int64"
     },
     "metadata": {},
     "execution_count": 12
    }
   ],
   "source": [
    "all_citi_bike_data_clean[\"start station name\"].value_counts()"
   ]
  },
  {
   "cell_type": "code",
   "execution_count": 14,
   "metadata": {},
   "outputs": [],
   "source": [
    "# Convert the consolidated DataFrame into a csv file and export\n",
    "all_citi_bike_data_clean.to_csv(\"Resources/citibike-tripdata-consolidated-201910-202003.csv\", index=False, encoding=\"utf-8\")"
   ]
  }
 ],
 "metadata": {
  "language_info": {
   "codemirror_mode": {
    "name": "ipython",
    "version": 3
   },
   "file_extension": ".py",
   "mimetype": "text/x-python",
   "name": "python",
   "nbconvert_exporter": "python",
   "pygments_lexer": "ipython3",
   "version": "3.7.5-final"
  },
  "orig_nbformat": 2,
  "kernelspec": {
   "name": "python37564bitpythondatacondac30bd6fcf4694af7948ebff9c485f105",
   "display_name": "Python 3.7.5 64-bit ('PythonData': conda)"
  }
 },
 "nbformat": 4,
 "nbformat_minor": 2
}