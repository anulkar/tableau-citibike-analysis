{
 "cells": [
  {
   "cell_type": "code",
   "execution_count": 40,
   "metadata": {},
   "outputs": [],
   "source": [
    "# Dependencies and Setup\n",
    "import pandas as pd\n",
    "import glob"
   ]
  },
  {
   "cell_type": "code",
   "execution_count": 41,
   "metadata": {},
   "outputs": [
    {
     "output_type": "execute_result",
     "data": {
      "text/plain": "['Resources/JC-201902-citibike-tripdata.csv',\n 'Resources/JC-201908-citibike-tripdata.csv',\n 'Resources/JC-202002-citibike-tripdata.csv',\n 'Resources/JC-201910-citibike-tripdata.csv',\n 'Resources/JC-201906-citibike-tripdata.csv',\n 'Resources/JC-201912-citibike-tripdata.csv',\n 'Resources/JC-201904-citibike-tripdata.csv',\n 'Resources/JC-201903-citibike-tripdata.csv',\n 'Resources/JC-201909-citibike-tripdata.csv',\n 'Resources/JC-201901-citibike-tripdata.csv',\n 'Resources/JC-202003-citibike-tripdata.csv',\n 'Resources/JC-201907-citibike-tripdata.csv',\n 'Resources/JC-201911-citibike-tripdata.csv',\n 'Resources/JC-201905-citibike-tripdata.csv',\n 'Resources/JC-202001-citibike-tripdata.csv']"
     },
     "metadata": {},
     "execution_count": 41
    }
   ],
   "source": [
    "# List all Citi Bike CSV files in the working directory\n",
    "citi_bike_csv_files = [file for file in glob.glob('Resources/*tripdata.csv')]\n",
    "citi_bike_csv_files"
   ]
  },
  {
   "cell_type": "code",
   "execution_count": 42,
   "metadata": {},
   "outputs": [
    {
     "output_type": "execute_result",
     "data": {
      "text/plain": "       tripduration                 starttime                  stoptime  \\\n0               142  2019-02-01 15:35:02.0820  2019-02-01 15:37:24.1360   \n1               223  2019-02-01 17:00:46.8900  2019-02-01 17:04:30.5500   \n2               106  2019-02-01 17:08:01.3260  2019-02-01 17:09:47.4400   \n3               370  2019-02-01 17:09:31.2100  2019-02-01 17:15:41.6550   \n4               315  2019-02-01 17:19:53.2490  2019-02-01 17:25:09.1400   \n...             ...                       ...                       ...   \n26015           544  2020-01-31 23:29:29.3910  2020-01-31 23:38:33.6910   \n26016           122  2020-01-31 23:30:59.3670  2020-01-31 23:33:01.6870   \n26017           201  2020-01-31 23:42:34.8460  2020-01-31 23:45:55.8780   \n26018           300  2020-01-31 23:45:00.6800  2020-01-31 23:50:00.8740   \n26019           721  2020-01-31 23:48:35.1700  2020-02-01 00:00:36.4060   \n\n       start station id          start station name  start station latitude  \\\n0                  3183              Exchange Place               40.716247   \n1                  3183              Exchange Place               40.716247   \n2                  3183              Exchange Place               40.716247   \n3                  3183              Exchange Place               40.716247   \n4                  3183              Exchange Place               40.716247   \n...                 ...                         ...                     ...   \n26015              3213              Van Vorst Park               40.718489   \n26016              3792  Columbus Dr at Exchange Pl               40.716870   \n26017              3273                Manila & 1st               40.721651   \n26018              3185                   City Hall               40.717733   \n26019              3206                     Hilltop               40.731169   \n\n       start station longitude  end station id end station name  \\\n0                   -74.033459            3639       Harborside   \n1                   -74.033459            3681         Grand St   \n2                   -74.033459            3184      Paulus Hook   \n3                   -74.033459            3211       Newark Ave   \n4                   -74.033459            3273     Manila & 1st   \n...                        ...             ...              ...   \n26015               -74.047727            3194  McGinley Square   \n26016               -74.032810            3639       Harborside   \n26017               -74.042884            3209     Brunswick St   \n26018               -74.043845            3267     Morris Canal   \n26019               -74.057574            3202     Newport PATH   \n\n       end station latitude  end station longitude  bikeid    usertype  \\\n0                 40.719252             -74.034234   29677  Subscriber   \n1                 40.715178             -74.037683   26234  Subscriber   \n2                 40.714145             -74.033552   29588  Subscriber   \n3                 40.721525             -74.046305   29250  Subscriber   \n4                 40.721651             -74.042884   29586  Subscriber   \n...                     ...                    ...     ...         ...   \n26015             40.725340             -74.067622   29659  Subscriber   \n26016             40.719252             -74.034234   42361  Subscriber   \n26017             40.724176             -74.050656   42368  Subscriber   \n26018             40.712419             -74.038526   42257  Subscriber   \n26019             40.727224             -74.033759   29302    Customer   \n\n       birth year  gender  \n0            1963       1  \n1            1992       2  \n2            1960       1  \n3            1976       1  \n4            1980       1  \n...           ...     ...  \n26015        1989       1  \n26016        1991       1  \n26017        1988       1  \n26018        1981       2  \n26019        1998       1  \n\n[471648 rows x 15 columns]",
      "text/html": "<div>\n<style scoped>\n    .dataframe tbody tr th:only-of-type {\n        vertical-align: middle;\n    }\n\n    .dataframe tbody tr th {\n        vertical-align: top;\n    }\n\n    .dataframe thead th {\n        text-align: right;\n    }\n</style>\n<table border=\"1\" class=\"dataframe\">\n  <thead>\n    <tr style=\"text-align: right;\">\n      <th></th>\n      <th>tripduration</th>\n      <th>starttime</th>\n      <th>stoptime</th>\n      <th>start station id</th>\n      <th>start station name</th>\n      <th>start station latitude</th>\n      <th>start station longitude</th>\n      <th>end station id</th>\n      <th>end station name</th>\n      <th>end station latitude</th>\n      <th>end station longitude</th>\n      <th>bikeid</th>\n      <th>usertype</th>\n      <th>birth year</th>\n      <th>gender</th>\n    </tr>\n  </thead>\n  <tbody>\n    <tr>\n      <th>0</th>\n      <td>142</td>\n      <td>2019-02-01 15:35:02.0820</td>\n      <td>2019-02-01 15:37:24.1360</td>\n      <td>3183</td>\n      <td>Exchange Place</td>\n      <td>40.716247</td>\n      <td>-74.033459</td>\n      <td>3639</td>\n      <td>Harborside</td>\n      <td>40.719252</td>\n      <td>-74.034234</td>\n      <td>29677</td>\n      <td>Subscriber</td>\n      <td>1963</td>\n      <td>1</td>\n    </tr>\n    <tr>\n      <th>1</th>\n      <td>223</td>\n      <td>2019-02-01 17:00:46.8900</td>\n      <td>2019-02-01 17:04:30.5500</td>\n      <td>3183</td>\n      <td>Exchange Place</td>\n      <td>40.716247</td>\n      <td>-74.033459</td>\n      <td>3681</td>\n      <td>Grand St</td>\n      <td>40.715178</td>\n      <td>-74.037683</td>\n      <td>26234</td>\n      <td>Subscriber</td>\n      <td>1992</td>\n      <td>2</td>\n    </tr>\n    <tr>\n      <th>2</th>\n      <td>106</td>\n      <td>2019-02-01 17:08:01.3260</td>\n      <td>2019-02-01 17:09:47.4400</td>\n      <td>3183</td>\n      <td>Exchange Place</td>\n      <td>40.716247</td>\n      <td>-74.033459</td>\n      <td>3184</td>\n      <td>Paulus Hook</td>\n      <td>40.714145</td>\n      <td>-74.033552</td>\n      <td>29588</td>\n      <td>Subscriber</td>\n      <td>1960</td>\n      <td>1</td>\n    </tr>\n    <tr>\n      <th>3</th>\n      <td>370</td>\n      <td>2019-02-01 17:09:31.2100</td>\n      <td>2019-02-01 17:15:41.6550</td>\n      <td>3183</td>\n      <td>Exchange Place</td>\n      <td>40.716247</td>\n      <td>-74.033459</td>\n      <td>3211</td>\n      <td>Newark Ave</td>\n      <td>40.721525</td>\n      <td>-74.046305</td>\n      <td>29250</td>\n      <td>Subscriber</td>\n      <td>1976</td>\n      <td>1</td>\n    </tr>\n    <tr>\n      <th>4</th>\n      <td>315</td>\n      <td>2019-02-01 17:19:53.2490</td>\n      <td>2019-02-01 17:25:09.1400</td>\n      <td>3183</td>\n      <td>Exchange Place</td>\n      <td>40.716247</td>\n      <td>-74.033459</td>\n      <td>3273</td>\n      <td>Manila &amp; 1st</td>\n      <td>40.721651</td>\n      <td>-74.042884</td>\n      <td>29586</td>\n      <td>Subscriber</td>\n      <td>1980</td>\n      <td>1</td>\n    </tr>\n    <tr>\n      <th>...</th>\n      <td>...</td>\n      <td>...</td>\n      <td>...</td>\n      <td>...</td>\n      <td>...</td>\n      <td>...</td>\n      <td>...</td>\n      <td>...</td>\n      <td>...</td>\n      <td>...</td>\n      <td>...</td>\n      <td>...</td>\n      <td>...</td>\n      <td>...</td>\n      <td>...</td>\n    </tr>\n    <tr>\n      <th>26015</th>\n      <td>544</td>\n      <td>2020-01-31 23:29:29.3910</td>\n      <td>2020-01-31 23:38:33.6910</td>\n      <td>3213</td>\n      <td>Van Vorst Park</td>\n      <td>40.718489</td>\n      <td>-74.047727</td>\n      <td>3194</td>\n      <td>McGinley Square</td>\n      <td>40.725340</td>\n      <td>-74.067622</td>\n      <td>29659</td>\n      <td>Subscriber</td>\n      <td>1989</td>\n      <td>1</td>\n    </tr>\n    <tr>\n      <th>26016</th>\n      <td>122</td>\n      <td>2020-01-31 23:30:59.3670</td>\n      <td>2020-01-31 23:33:01.6870</td>\n      <td>3792</td>\n      <td>Columbus Dr at Exchange Pl</td>\n      <td>40.716870</td>\n      <td>-74.032810</td>\n      <td>3639</td>\n      <td>Harborside</td>\n      <td>40.719252</td>\n      <td>-74.034234</td>\n      <td>42361</td>\n      <td>Subscriber</td>\n      <td>1991</td>\n      <td>1</td>\n    </tr>\n    <tr>\n      <th>26017</th>\n      <td>201</td>\n      <td>2020-01-31 23:42:34.8460</td>\n      <td>2020-01-31 23:45:55.8780</td>\n      <td>3273</td>\n      <td>Manila &amp; 1st</td>\n      <td>40.721651</td>\n      <td>-74.042884</td>\n      <td>3209</td>\n      <td>Brunswick St</td>\n      <td>40.724176</td>\n      <td>-74.050656</td>\n      <td>42368</td>\n      <td>Subscriber</td>\n      <td>1988</td>\n      <td>1</td>\n    </tr>\n    <tr>\n      <th>26018</th>\n      <td>300</td>\n      <td>2020-01-31 23:45:00.6800</td>\n      <td>2020-01-31 23:50:00.8740</td>\n      <td>3185</td>\n      <td>City Hall</td>\n      <td>40.717733</td>\n      <td>-74.043845</td>\n      <td>3267</td>\n      <td>Morris Canal</td>\n      <td>40.712419</td>\n      <td>-74.038526</td>\n      <td>42257</td>\n      <td>Subscriber</td>\n      <td>1981</td>\n      <td>2</td>\n    </tr>\n    <tr>\n      <th>26019</th>\n      <td>721</td>\n      <td>2020-01-31 23:48:35.1700</td>\n      <td>2020-02-01 00:00:36.4060</td>\n      <td>3206</td>\n      <td>Hilltop</td>\n      <td>40.731169</td>\n      <td>-74.057574</td>\n      <td>3202</td>\n      <td>Newport PATH</td>\n      <td>40.727224</td>\n      <td>-74.033759</td>\n      <td>29302</td>\n      <td>Customer</td>\n      <td>1998</td>\n      <td>1</td>\n    </tr>\n  </tbody>\n</table>\n<p>471648 rows × 15 columns</p>\n</div>"
     },
     "metadata": {},
     "execution_count": 42
    }
   ],
   "source": [
    "# Read and consolidate all CSV files into one Data Frame\n",
    "all_citi_bike_data = pd.concat([pd.read_csv(file) for file in citi_bike_csv_files])\n",
    "all_citi_bike_data"
   ]
  },
  {
   "cell_type": "code",
   "execution_count": 43,
   "metadata": {},
   "outputs": [
    {
     "output_type": "stream",
     "name": "stdout",
     "text": "Old data frame length: 471648\nNew data frame length: 471648\nNumber of rows with at least 1 NA value:  0\n"
    }
   ],
   "source": [
    "# Drop any rows with at least one null value\n",
    "all_citi_bike_data_clean = all_citi_bike_data.dropna()\n",
    "all_citi_bike_data_clean\n",
    "\n",
    "print(\"Old data frame length:\", len(all_citi_bike_data)) \n",
    "print(\"New data frame length:\", len(all_citi_bike_data_clean)) \n",
    "print(\"Number of rows with at least 1 NA value: \", (len(all_citi_bike_data)-len(all_citi_bike_data_clean))) "
   ]
  },
  {
   "cell_type": "code",
   "execution_count": 44,
   "metadata": {},
   "outputs": [
    {
     "output_type": "execute_result",
     "data": {
      "text/plain": "tripduration                 int64\nstarttime                   object\nstoptime                    object\nstart station id             int64\nstart station name          object\nstart station latitude     float64\nstart station longitude    float64\nend station id               int64\nend station name            object\nend station latitude       float64\nend station longitude      float64\nbikeid                       int64\nusertype                    object\nbirth year                   int64\ngender                       int64\ndtype: object"
     },
     "metadata": {},
     "execution_count": 44
    }
   ],
   "source": [
    "# Verify data types\n",
    "all_citi_bike_data_clean.dtypes"
   ]
  },
  {
   "cell_type": "code",
   "execution_count": 45,
   "metadata": {},
   "outputs": [
    {
     "output_type": "execute_result",
     "data": {
      "text/plain": "1    333427\n2    108178\n0     30043\nName: gender, dtype: int64"
     },
     "metadata": {},
     "execution_count": 45
    }
   ],
   "source": [
    "# Verify gender data (0=unknown; 1=male; 2=female)\n",
    "all_citi_bike_data_clean.gender.value_counts()"
   ]
  },
  {
   "cell_type": "code",
   "execution_count": 46,
   "metadata": {},
   "outputs": [
    {
     "output_type": "execute_result",
     "data": {
      "text/plain": "Male       333427\nFemale     108178\nUnknown     30043\nName: gender, dtype: int64"
     },
     "metadata": {},
     "execution_count": 46
    }
   ],
   "source": [
    "# Change data type of gender column to String\n",
    "all_citi_bike_data_clean['gender'] = all_citi_bike_data_clean['gender'].astype(str)\n",
    "\n",
    "# Replace gender values (0=>unknown; 1=>male; 2=>female)\n",
    "all_citi_bike_data_clean['gender'].replace({'0':'Unknown', '1': 'Male', '2': 'Female'}, inplace=True)\n",
    "\n",
    "# Verify gender data after replacement\n",
    "all_citi_bike_data_clean.gender.value_counts()"
   ]
  },
  {
   "cell_type": "code",
   "execution_count": 47,
   "metadata": {},
   "outputs": [
    {
     "output_type": "execute_result",
     "data": {
      "text/plain": "Subscriber    423002\nCustomer       48646\nName: usertype, dtype: int64"
     },
     "metadata": {},
     "execution_count": 47
    }
   ],
   "source": [
    "# Verify user type data\n",
    "all_citi_bike_data_clean.usertype.value_counts()"
   ]
  },
  {
   "cell_type": "code",
   "execution_count": 48,
   "metadata": {},
   "outputs": [
    {
     "output_type": "stream",
     "name": "stdout",
     "text": "Duplicate Rows except first occurrence based on all columns are: 0\n\n"
    }
   ],
   "source": [
    "# Check for any duplicate rows in the DataFra,e except first occurrence based on all columns\n",
    "duplicate_rows_df = all_citi_bike_data_clean[all_citi_bike_data_clean.duplicated()]\n",
    " \n",
    "print(f\"Duplicate Rows except first occurrence based on all columns are: {len(duplicate_rows_df)}\")\n",
    "print()"
   ]
  },
  {
   "cell_type": "code",
   "execution_count": 51,
   "metadata": {},
   "outputs": [
    {
     "output_type": "execute_result",
     "data": {
      "text/plain": "Grove St PATH                 53425\nHamilton Park                 27545\nSip Ave                       22868\nHarborside                    20884\nNewport PATH                  20036\nMarin Light Rail              16586\nNewport Pkwy                  13112\nNewark Ave                    12424\nCity Hall                     12124\nColumbus Dr at Exchange Pl    11734\nWarren St                     11569\nMorris Canal                  11535\nBrunswick & 6th               11520\nWashington St                 11270\nJersey & 3rd                  10680\nPaulus Hook                   10442\nJersey & 6th St               10414\nLiberty Light Rail            10119\nColumbus Drive                10036\nVan Vorst Park                10016\nBrunswick St                   9864\nMonmouth and 6th               9603\nManila & 1st                   8889\nJournal Square                 8679\nMcGinley Square                8628\nDixon Mills                    7966\nJC Medical Center              7891\nEssex Light Rail               7169\nGrand St                       7155\nPershing Field                 5438\nOakland Ave                    5336\nExchange Place                 5304\nMontgomery St                  5106\nBaldwin at Montgomery          4744\nAstor Place                    4584\nFairmount Ave                  4138\nYork St                        4091\nBergen Ave                     4000\nLincoln Park                   3581\nLafayette Park                 3536\nHilltop                        3242\nHeights Elevator               3010\n5 Corners Library              2900\nChrist Hospital                2833\nGlenwood Ave                   2580\nLeonard Gordon Park            2507\nRiverview Park                 2483\nCommunipaw & Berry Lane        2079\nHoboken Ave at Monmouth St     1997\nDey St                         1482\nJackson Square                 1242\nUnion St                       1209\nJCBS Depot                       43\nName: start station name, dtype: int64"
     },
     "metadata": {},
     "execution_count": 51
    }
   ],
   "source": [
    "all_citi_bike_data_clean[\"start station name\"].value_counts()"
   ]
  },
  {
   "cell_type": "code",
   "execution_count": 26,
   "metadata": {},
   "outputs": [
    {
     "output_type": "error",
     "ename": "AttributeError",
     "evalue": "'Series' object has no attribute 'counts'",
     "traceback": [
      "\u001b[0;31m---------------------------------------------------------------------------\u001b[0m",
      "\u001b[0;31mAttributeError\u001b[0m                            Traceback (most recent call last)",
      "\u001b[0;32m<ipython-input-26-a1c56193da92>\u001b[0m in \u001b[0;36m<module>\u001b[0;34m\u001b[0m\n\u001b[0;32m----> 1\u001b[0;31m \u001b[0mall_citi_bike_data_clean\u001b[0m\u001b[0;34m[\u001b[0m\u001b[0;34m\"start station name\"\u001b[0m\u001b[0;34m]\u001b[0m\u001b[0;34m.\u001b[0m\u001b[0mcounts\u001b[0m\u001b[0;34m(\u001b[0m\u001b[0;34m)\u001b[0m\u001b[0;34m\u001b[0m\u001b[0;34m\u001b[0m\u001b[0m\n\u001b[0m",
      "\u001b[0;32m~/opt/anaconda3/envs/PythonData/lib/python3.7/site-packages/pandas/core/generic.py\u001b[0m in \u001b[0;36m__getattr__\u001b[0;34m(self, name)\u001b[0m\n\u001b[1;32m   5177\u001b[0m             \u001b[0;32mif\u001b[0m \u001b[0mself\u001b[0m\u001b[0;34m.\u001b[0m\u001b[0m_info_axis\u001b[0m\u001b[0;34m.\u001b[0m\u001b[0m_can_hold_identifiers_and_holds_name\u001b[0m\u001b[0;34m(\u001b[0m\u001b[0mname\u001b[0m\u001b[0;34m)\u001b[0m\u001b[0;34m:\u001b[0m\u001b[0;34m\u001b[0m\u001b[0;34m\u001b[0m\u001b[0m\n\u001b[1;32m   5178\u001b[0m                 \u001b[0;32mreturn\u001b[0m \u001b[0mself\u001b[0m\u001b[0;34m[\u001b[0m\u001b[0mname\u001b[0m\u001b[0;34m]\u001b[0m\u001b[0;34m\u001b[0m\u001b[0;34m\u001b[0m\u001b[0m\n\u001b[0;32m-> 5179\u001b[0;31m             \u001b[0;32mreturn\u001b[0m \u001b[0mobject\u001b[0m\u001b[0;34m.\u001b[0m\u001b[0m__getattribute__\u001b[0m\u001b[0;34m(\u001b[0m\u001b[0mself\u001b[0m\u001b[0;34m,\u001b[0m \u001b[0mname\u001b[0m\u001b[0;34m)\u001b[0m\u001b[0;34m\u001b[0m\u001b[0;34m\u001b[0m\u001b[0m\n\u001b[0m\u001b[1;32m   5180\u001b[0m \u001b[0;34m\u001b[0m\u001b[0m\n\u001b[1;32m   5181\u001b[0m     \u001b[0;32mdef\u001b[0m \u001b[0m__setattr__\u001b[0m\u001b[0;34m(\u001b[0m\u001b[0mself\u001b[0m\u001b[0;34m,\u001b[0m \u001b[0mname\u001b[0m\u001b[0;34m,\u001b[0m \u001b[0mvalue\u001b[0m\u001b[0;34m)\u001b[0m\u001b[0;34m:\u001b[0m\u001b[0;34m\u001b[0m\u001b[0;34m\u001b[0m\u001b[0m\n",
      "\u001b[0;31mAttributeError\u001b[0m: 'Series' object has no attribute 'counts'"
     ]
    }
   ],
   "source": [
    "all_citi_bike_data_clean[\"start station name\"].counts()"
   ]
  },
  {
   "cell_type": "code",
   "execution_count": 50,
   "metadata": {},
   "outputs": [],
   "source": [
    "# Convert the consolidated DataFrame into a csv file and export\n",
    "all_citi_bike_data_clean.to_csv(\"Resources/citibike-tripdata-consolidated-201901-202003.csv\", index=False, encoding=\"utf-8\")"
   ]
  }
 ],
 "metadata": {
  "language_info": {
   "codemirror_mode": {
    "name": "ipython",
    "version": 3
   },
   "file_extension": ".py",
   "mimetype": "text/x-python",
   "name": "python",
   "nbconvert_exporter": "python",
   "pygments_lexer": "ipython3",
   "version": "3.7.5-final"
  },
  "orig_nbformat": 2,
  "kernelspec": {
   "name": "python37564bitpythondatacondac30bd6fcf4694af7948ebff9c485f105",
   "display_name": "Python 3.7.5 64-bit ('PythonData': conda)"
  }
 },
 "nbformat": 4,
 "nbformat_minor": 2
}